{
 "nbformat": 4,
 "nbformat_minor": 0,
 "metadata": {
  "colab": {
   "provenance": []
  },
  "kernelspec": {
   "name": "python3",
   "display_name": "Python 3"
  },
  "language_info": {
   "name": "python"
  }
 },
 "cells": [
  {
   "cell_type": "code",
   "execution_count": null,
   "metadata": {
    "id": "A0Lqqoa3oomh"
   },
   "outputs": [],
   "source": [
    "import pandas as pd\n",
    "from keras.models import Sequential, load_model\n",
    "from keras.layers import Dense, Embedding, Flatten, TextVectorization, GlobalAveragePooling1D"
   ]
  },
  {
   "cell_type": "code",
   "source": [
    "data = pd.read_csv('train.csv')\n",
    "X = data['excerpt']\n",
    "y = data['target']"
   ],
   "metadata": {
    "id": "mbZgP14rpKwX"
   },
   "execution_count": null,
   "outputs": []
  },
  {
   "cell_type": "code",
   "source": [
    "vectorize_layer = TextVectorization(\n",
    "    max_tokens=10000,\n",
    "    output_mode='int',\n",
    "    output_sequence_length=5000)\n",
    "vectorize_layer.adapt([X])\n",
    "vectorize_layer.save_assets('vec')"
   ],
   "metadata": {
    "id": "xS0eHmTD8o3g"
   },
   "execution_count": null,
   "outputs": []
  },
  {
   "cell_type": "code",
   "source": [
    "model = Sequential([\n",
    "    vectorize_layer,\n",
    "    Embedding(50000, 128),\n",
    "    GlobalAveragePooling1D(),\n",
    "    Flatten(),\n",
    "    Dense(128, activation='relu'),\n",
    "    Dense(1, activation='sigmoid')\n",
    "])\n",
    "model.compile(optimizer='adam', loss='mse')"
   ],
   "metadata": {
    "id": "C_hL6lYkpQET"
   },
   "execution_count": null,
   "outputs": []
  },
  {
   "cell_type": "code",
   "source": [
    "model.fit(X, y, epochs=3, batch_size=32, validation_split=0.2)"
   ],
   "metadata": {
    "colab": {
     "base_uri": "https://localhost:8080/"
    },
    "id": "E4tHF72fDhpR",
    "outputId": "7d8f261f-6099-43cd-b43f-e96f73c8b9a0"
   },
   "execution_count": null,
   "outputs": [
    {
     "output_type": "stream",
     "name": "stdout",
     "text": [
      "Epoch 1/3\n",
      "71/71 [==============================] - 15s 214ms/step - loss: 2.0820 - val_loss: 1.6177\n",
      "Epoch 2/3\n",
      "71/71 [==============================] - 15s 211ms/step - loss: 2.0815 - val_loss: 1.6174\n",
      "Epoch 3/3\n",
      "71/71 [==============================] - 15s 205ms/step - loss: 2.0813 - val_loss: 1.6173\n"
     ]
    },
    {
     "output_type": "execute_result",
     "data": {
      "text/plain": [
       "<keras.src.callbacks.History at 0x79266d72e800>"
      ]
     },
     "metadata": {},
     "execution_count": 108
    }
   ]
  },
  {
   "cell_type": "code",
   "source": [
    "model.save_weights('weights', overwrite=True, save_format=None, options=None)\n"
   ],
   "metadata": {
    "id": "zcJvlIszynk7"
   },
   "execution_count": null,
   "outputs": []
  }
 ]
}
